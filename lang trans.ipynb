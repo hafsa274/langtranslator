{
 "cells": [
  {
   "cell_type": "code",
   "execution_count": 1,
   "id": "de31f59c-cdf8-4388-8af6-844f528f0ca9",
   "metadata": {},
   "outputs": [
    {
     "name": "stdout",
     "output_type": "stream",
     "text": [
      "Requirement already satisfied: googletrans==4.0.0-rc1 in d:\\3rd sem\\anaconda\\lib\\site-packages (4.0.0rc1)\n",
      "Requirement already satisfied: httpx==0.13.3 in d:\\3rd sem\\anaconda\\lib\\site-packages (from googletrans==4.0.0-rc1) (0.13.3)\n",
      "Requirement already satisfied: certifi in d:\\3rd sem\\anaconda\\lib\\site-packages (from httpx==0.13.3->googletrans==4.0.0-rc1) (2024.8.30)\n",
      "Requirement already satisfied: hstspreload in d:\\3rd sem\\anaconda\\lib\\site-packages (from httpx==0.13.3->googletrans==4.0.0-rc1) (2025.1.1)\n",
      "Requirement already satisfied: sniffio in d:\\3rd sem\\anaconda\\lib\\site-packages (from httpx==0.13.3->googletrans==4.0.0-rc1) (1.3.0)\n",
      "Requirement already satisfied: chardet==3.* in d:\\3rd sem\\anaconda\\lib\\site-packages (from httpx==0.13.3->googletrans==4.0.0-rc1) (3.0.4)\n",
      "Requirement already satisfied: idna==2.* in d:\\3rd sem\\anaconda\\lib\\site-packages (from httpx==0.13.3->googletrans==4.0.0-rc1) (2.10)\n",
      "Requirement already satisfied: rfc3986<2,>=1.3 in d:\\3rd sem\\anaconda\\lib\\site-packages (from httpx==0.13.3->googletrans==4.0.0-rc1) (1.5.0)\n",
      "Requirement already satisfied: httpcore==0.9.* in d:\\3rd sem\\anaconda\\lib\\site-packages (from httpx==0.13.3->googletrans==4.0.0-rc1) (0.9.1)\n",
      "Requirement already satisfied: h11<0.10,>=0.8 in d:\\3rd sem\\anaconda\\lib\\site-packages (from httpcore==0.9.*->httpx==0.13.3->googletrans==4.0.0-rc1) (0.9.0)\n",
      "Requirement already satisfied: h2==3.* in d:\\3rd sem\\anaconda\\lib\\site-packages (from httpcore==0.9.*->httpx==0.13.3->googletrans==4.0.0-rc1) (3.2.0)\n",
      "Requirement already satisfied: hyperframe<6,>=5.2.0 in d:\\3rd sem\\anaconda\\lib\\site-packages (from h2==3.*->httpcore==0.9.*->httpx==0.13.3->googletrans==4.0.0-rc1) (5.2.0)\n",
      "Requirement already satisfied: hpack<4,>=3.0 in d:\\3rd sem\\anaconda\\lib\\site-packages (from h2==3.*->httpcore==0.9.*->httpx==0.13.3->googletrans==4.0.0-rc1) (3.0.0)\n"
     ]
    }
   ],
   "source": [
    "!pip install googletrans==4.0.0-rc1"
   ]
  },
  {
   "cell_type": "code",
   "execution_count": 5,
   "id": "ef7a56b6-f942-4f69-940a-5fce94593728",
   "metadata": {},
   "outputs": [
    {
     "name": "stdout",
     "output_type": "stream",
     "text": [
      "\n",
      "========================================\n",
      "          LANGUAGE TRANSLATOR        \n",
      "========================================\n",
      "\n",
      "Supported Languages:\n",
      "----------------------------------------\n",
      "| Code   | Language                     |\n",
      "----------------------------------------\n",
      "| en     | English                      |\n",
      "| fr     | French                       |\n",
      "| ur     | Urdu                         |\n",
      "| hi     | Hindi                        |\n",
      "| de     | German                       |\n",
      "| es     | Spanish                      |\n",
      "| zh-cn  | Chinese                      |\n",
      "| ar     | Arabic                       |\n",
      "| ru     | Russian                      |\n",
      "| ja     | Japanese                     |\n",
      "----------------------------------------\n"
     ]
    },
    {
     "name": "stdin",
     "output_type": "stream",
     "text": [
      "Enter the target language code:  ar\n"
     ]
    },
    {
     "name": "stdout",
     "output_type": "stream",
     "text": [
      "\n",
      "Enter text to translate. Type 'change' to select a new language or 'exit' to quit:\n"
     ]
    },
    {
     "name": "stdin",
     "output_type": "stream",
     "text": [
      "\n",
      "You:  good morning\n"
     ]
    },
    {
     "name": "stdout",
     "output_type": "stream",
     "text": [
      "\n",
      "----------------------------------------\n",
      "Translated (English → Arabic): صباح الخير\n",
      "----------------------------------------\n"
     ]
    },
    {
     "name": "stdin",
     "output_type": "stream",
     "text": [
      "\n",
      "You:  hope you are doing great\n"
     ]
    },
    {
     "name": "stdout",
     "output_type": "stream",
     "text": [
      "\n",
      "----------------------------------------\n",
      "Translated (English → Arabic): أتمنى أن تكون بخير\n",
      "----------------------------------------\n"
     ]
    },
    {
     "name": "stdin",
     "output_type": "stream",
     "text": [
      "\n",
      "You:  change\n",
      "Enter the target language code:  de\n",
      "\n",
      "You:  where is the nearest coffee shop?\n"
     ]
    },
    {
     "name": "stdout",
     "output_type": "stream",
     "text": [
      "\n",
      "----------------------------------------\n",
      "Translated (English → German): Wo ist das nächste Café?\n",
      "----------------------------------------\n"
     ]
    },
    {
     "name": "stdin",
     "output_type": "stream",
     "text": [
      "\n",
      "You:  whats your lipstick shade?\n"
     ]
    },
    {
     "name": "stdout",
     "output_type": "stream",
     "text": [
      "\n",
      "----------------------------------------\n",
      "Translated (English → German): Was ist dein Lippenstiftschatten?\n",
      "----------------------------------------\n"
     ]
    },
    {
     "name": "stdin",
     "output_type": "stream",
     "text": [
      "\n",
      "You:  ru\n"
     ]
    },
    {
     "name": "stdout",
     "output_type": "stream",
     "text": [
      "\n",
      "----------------------------------------\n",
      "Translated (English → German): Ru\n",
      "----------------------------------------\n"
     ]
    },
    {
     "name": "stdin",
     "output_type": "stream",
     "text": [
      "\n",
      "You:  change\n",
      "Enter the target language code:  ur\n",
      "\n",
      "You:  nice to meet you\n"
     ]
    },
    {
     "name": "stdout",
     "output_type": "stream",
     "text": [
      "\n",
      "----------------------------------------\n",
      "Translated (English → Urdu): آپ سے مل کر خوشی ہوئی\n",
      "----------------------------------------\n"
     ]
    },
    {
     "name": "stdin",
     "output_type": "stream",
     "text": [
      "\n",
      "You:  exit\n"
     ]
    },
    {
     "name": "stdout",
     "output_type": "stream",
     "text": [
      "\n",
      "========================================\n",
      "  Exiting the Language Translator.  \n",
      "========================================\n"
     ]
    }
   ],
   "source": [
    "import googletrans\n",
    "from googletrans import Translator\n",
    "\n",
    "# Supported languages with their codes\n",
    "SUPPORTED_LANGUAGES = {\n",
    "    \"en\": \"English\",\n",
    "    \"fr\": \"French\",\n",
    "    \"ur\": \"Urdu\",\n",
    "    \"hi\": \"Hindi\",\n",
    "    \"de\": \"German\",\n",
    "    \"es\": \"Spanish\",\n",
    "    \"zh-cn\": \"Chinese\",\n",
    "    \"ar\": \"Arabic\",\n",
    "    \"ru\": \"Russian\",\n",
    "    \"ja\": \"Japanese\"\n",
    "}\n",
    "\n",
    "def display_languages():\n",
    "    \"\"\"Displays the supported languages in a table format.\"\"\"\n",
    "    print(\"\\n========================================\")\n",
    "    print(\"          LANGUAGE TRANSLATOR        \")\n",
    "    print(\"========================================\\n\")\n",
    "    print(\"Supported Languages:\")\n",
    "    print(\"----------------------------------------\")\n",
    "    print(\"| Code   | Language                     |\")\n",
    "    print(\"----------------------------------------\")\n",
    "    \n",
    "    for code, name in SUPPORTED_LANGUAGES.items():\n",
    "        print(f\"| {code.ljust(6)} | {name.ljust(28)} |\")\n",
    "    \n",
    "    print(\"----------------------------------------\")\n",
    "\n",
    "def get_language():\n",
    "    \"\"\"Gets a valid target language code from the user.\"\"\"\n",
    "    while True:\n",
    "        lang_code = input(\"Enter the target language code: \").strip().lower()\n",
    "        if lang_code in SUPPORTED_LANGUAGES:\n",
    "            return lang_code\n",
    "        print(\"Invalid code. Please choose from the list.\")\n",
    "\n",
    "def translate_text(translator, text, target_lang):\n",
    "    \"\"\"Translates the given text into the target language.\"\"\"\n",
    "    try:\n",
    "        translation = translator.translate(text, dest=target_lang)\n",
    "        detected_lang = translation.src  # Auto-detected source language\n",
    "        return f\"Translated ({SUPPORTED_LANGUAGES.get(detected_lang, 'Unknown')} → {SUPPORTED_LANGUAGES[target_lang]}): {translation.text}\"\n",
    "    except Exception as e:\n",
    "        return f\"Translation failed. Error: {str(e)}\"\n",
    "\n",
    "def main():\n",
    "    \"\"\"Main function to run the translation tool.\"\"\"\n",
    "    display_languages()\n",
    "    target_lang = get_language()\n",
    "    translator = Translator()\n",
    "    \n",
    "    print(\"\\nEnter text to translate. Type 'change' to select a new language or 'exit' to quit:\")\n",
    "    \n",
    "    while True:\n",
    "        text = input(\"\\nYou: \").strip()\n",
    "        \n",
    "        if text.lower() == \"exit\":\n",
    "            print(\"\\n========================================\")\n",
    "            print(\"  Exiting the Language Translator.  \")\n",
    "            print(\"========================================\")\n",
    "            break\n",
    "        elif text.lower() == \"change\":\n",
    "            target_lang = get_language()\n",
    "            continue\n",
    "        \n",
    "        print(\"\\n----------------------------------------\")\n",
    "        print(translate_text(translator, text, target_lang))\n",
    "        print(\"----------------------------------------\")\n",
    "\n",
    "if __name__ == \"__main__\":\n",
    "    main()\n"
   ]
  },
  {
   "cell_type": "code",
   "execution_count": null,
   "id": "8c118b25-f02f-4fa5-96f1-1f4696c80fb1",
   "metadata": {},
   "outputs": [],
   "source": []
  }
 ],
 "metadata": {
  "kernelspec": {
   "display_name": "Python 3 (ipykernel)",
   "language": "python",
   "name": "python3"
  },
  "language_info": {
   "codemirror_mode": {
    "name": "ipython",
    "version": 3
   },
   "file_extension": ".py",
   "mimetype": "text/x-python",
   "name": "python",
   "nbconvert_exporter": "python",
   "pygments_lexer": "ipython3",
   "version": "3.12.4"
  }
 },
 "nbformat": 4,
 "nbformat_minor": 5
}
