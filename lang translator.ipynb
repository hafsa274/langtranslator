{
 "cells": [
  {
   "cell_type": "code",
   "execution_count": null,
   "id": "32930b55-04d2-4514-af01-164bd7cbe0e7",
   "metadata": {},
   "outputs": [],
   "source": [
    "!pip install googletrans==4.0.0-rc1"
   ]
  },
  {
   "cell_type": "code",
   "execution_count": 2,
   "id": "8d6339de-1e6f-4185-8671-e4c4cc39c959",
   "metadata": {},
   "outputs": [
    {
     "name": "stdout",
     "output_type": "stream",
     "text": [
      "=== Language Translation Tool ===\n",
      "\n",
      "Supported Languages:\n",
      "en: English\n",
      "fr: French\n",
      "ur: Urdu\n",
      "hi: Hindi\n",
      "de: German\n"
     ]
    },
    {
     "name": "stdin",
     "output_type": "stream",
     "text": [
      "Enter the target language code (en, fr, ur, hi, de):  ur\n"
     ]
    },
    {
     "name": "stdout",
     "output_type": "stream",
     "text": [
      "\n",
      "Enter text to translate. Type 'change' to select a new language or 'exit' to quit:\n"
     ]
    },
    {
     "name": "stdin",
     "output_type": "stream",
     "text": [
      "You:  Hello how are you?\n"
     ]
    },
    {
     "name": "stdout",
     "output_type": "stream",
     "text": [
      "Translated (English → Urdu): ہیلو آپ کیسے ہیں؟ \n",
      "\n"
     ]
    },
    {
     "name": "stdin",
     "output_type": "stream",
     "text": [
      "You:  hope you are doing great\n"
     ]
    },
    {
     "name": "stdout",
     "output_type": "stream",
     "text": [
      "Translated (English → Urdu): امید ہے کہ آپ بہت اچھا کر رہے ہیں \n",
      "\n"
     ]
    },
    {
     "name": "stdin",
     "output_type": "stream",
     "text": [
      "You:  change\n",
      "Enter the target language code (en, fr, ur, hi, de):  de\n",
      "You:  my name is hafsa\n"
     ]
    },
    {
     "name": "stdout",
     "output_type": "stream",
     "text": [
      "Translated (English → German): Mein Name ist Hafsa \n",
      "\n"
     ]
    },
    {
     "name": "stdin",
     "output_type": "stream",
     "text": [
      "You:  exit\n"
     ]
    },
    {
     "name": "stdout",
     "output_type": "stream",
     "text": [
      "Exiting.\n"
     ]
    }
   ],
   "source": [
    "import googletrans\n",
    "from googletrans import Translator\n",
    "\n",
    "# Supported languages with their codes\n",
    "SUPPORTED_LANGUAGES = {\n",
    "    \"en\": \"English\",\n",
    "    \"fr\": \"French\",\n",
    "    \"ur\": \"Urdu\",\n",
    "    \"hi\": \"Hindi\",\n",
    "    \"de\": \"German\"\n",
    "}\n",
    "\n",
    "def display_languages():\n",
    "    \"\"\"Displays the supported languages.\"\"\"\n",
    "    print(\"\\nSupported Languages:\")\n",
    "    for code, name in SUPPORTED_LANGUAGES.items():\n",
    "        print(f\"{code}: {name}\")\n",
    "\n",
    "def get_language():\n",
    "    \"\"\"Gets a valid target language code from the user.\"\"\"\n",
    "    while True:\n",
    "        lang_code = input(\"Enter the target language code (en, fr, ur, hi, de): \").strip().lower()\n",
    "        if lang_code in SUPPORTED_LANGUAGES:\n",
    "            return lang_code\n",
    "        print(\"Invalid code. Please choose from the list.\")\n",
    "\n",
    "def translate_text(translator, text, target_lang):\n",
    "    \"\"\"Translates the given text into the target language.\"\"\"\n",
    "    try:\n",
    "        translation = translator.translate(text, dest=target_lang)\n",
    "        detected_lang = translation.src  # Auto-detected language\n",
    "        return f\"Translated ({SUPPORTED_LANGUAGES.get(detected_lang, 'Unknown')} → {SUPPORTED_LANGUAGES[target_lang]}): {translation.text}\"\n",
    "    except Exception as e:\n",
    "        return f\"Translation failed. Error: {str(e)}\"\n",
    "\n",
    "def main():\n",
    "    \"\"\"Main function to run the translation tool.\"\"\"\n",
    "    print(\"=== Language Translation Tool ===\")\n",
    "    display_languages()\n",
    "    target_lang = get_language()\n",
    "    translator = Translator()\n",
    "    \n",
    "    print(\"\\nEnter text to translate. Type 'change' to select a new language or 'exit' to quit:\")\n",
    "    \n",
    "    while True:\n",
    "        text = input(\"You: \").strip()\n",
    "        \n",
    "        if text.lower() == \"exit\":\n",
    "            print(\"Exiting.\")\n",
    "            break\n",
    "        elif text.lower() == \"change\":\n",
    "            target_lang = get_language()\n",
    "            continue\n",
    "        \n",
    "        print(translate_text(translator, text, target_lang), \"\\n\")\n",
    "\n",
    "if __name__ == \"__main__\":\n",
    "    main()\n"
   ]
  },
  {
   "cell_type": "code",
   "execution_count": null,
   "id": "935ab332-87bf-41bd-af45-0111688e7159",
   "metadata": {},
   "outputs": [],
   "source": []
  }
 ],
 "metadata": {
  "kernelspec": {
   "display_name": "Python 3 (ipykernel)",
   "language": "python",
   "name": "python3"
  },
  "language_info": {
   "codemirror_mode": {
    "name": "ipython",
    "version": 3
   },
   "file_extension": ".py",
   "mimetype": "text/x-python",
   "name": "python",
   "nbconvert_exporter": "python",
   "pygments_lexer": "ipython3",
   "version": "3.12.4"
  }
 },
 "nbformat": 4,
 "nbformat_minor": 5
}
